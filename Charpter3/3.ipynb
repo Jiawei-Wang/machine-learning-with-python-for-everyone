{
 "cells": [
  {
   "cell_type": "markdown",
   "metadata": {},
   "source": [
    "# Simple classifier #1: KNN"
   ]
  },
  {
   "cell_type": "code",
   "execution_count": 1,
   "metadata": {},
   "outputs": [],
   "source": [
    "# setup\n",
    "from mlwpy import *\n",
    "%matplotlib inline\n",
    "\n",
    "from sklearn import datasets\n",
    "from sklearn import neighbors\n",
    "iris = datasets.load_iris() \n",
    "(iris_train_ftrs, iris_test_ftrs, iris_train_tgt, iris_test_tgt) = skms.train_test_split(iris.data, iris.target, test_size=.25)"
   ]
  },
  {
   "cell_type": "code",
   "execution_count": 4,
   "metadata": {},
   "outputs": [
    {
     "name": "stdout",
     "output_type": "stream",
     "text": [
      "3NN accuracy:  1.0\n"
     ]
    }
   ],
   "source": [
    "# build a knn classification model\n",
    "# knn -> train data(features + targets) -> training -> test features -> prediction -> results -> test targets -> evaluation -> performance\n",
    "knn = neighbors.KNeighborsClassifier(n_neighbors=3)\n",
    "fit = knn.fit(iris_train_ftrs, iris_train_tgt)\n",
    "preds = fit.predict(iris_test_ftrs)\n",
    "print(\"3NN accuracy: \", metrics.accuracy_score(iris_test_tgt, preds))"
   ]
  },
  {
   "cell_type": "markdown",
   "metadata": {},
   "source": [
    "# Simple classifier #2: Naive Bayes"
   ]
  },
  {
   "cell_type": "code",
   "execution_count": 9,
   "metadata": {},
   "outputs": [
    {
     "name": "stdout",
     "output_type": "stream",
     "text": [
      "NB accuracy:  1.0\n"
     ]
    }
   ],
   "source": [
    "nb = naive_bayes.GaussianNB()\n",
    "fit = nb.fit(iris_train_ftrs, iris_train_tgt)\n",
    "preds = fit.predict(iris_test_ftrs)\n",
    "\n",
    "print('NB accuracy: ', metrics.accuracy_score(iris_test_tgt, preds))"
   ]
  },
  {
   "cell_type": "markdown",
   "metadata": {},
   "source": [
    "# Evaluation of Classifiers\n"
   ]
  },
  {
   "cell_type": "code",
   "execution_count": 10,
   "metadata": {},
   "outputs": [
    {
     "name": "stdout",
     "output_type": "stream",
     "text": [
      "kNN:0.96\n",
      " NB:0.81\n"
     ]
    }
   ],
   "source": [
    "from sklearn import (datasets, metrics, model_selection as skms, naive_bayes, neighbors)\n",
    "\n",
    "# we set random_state so the results are reproducible\n",
    "# otherwise, we get different training and testing sets\n",
    "iris = datasets.load_iris()\n",
    "(iris_train_ftrs, iris_test_ftrs, iris_train_tgt, iris_test_tgt) = skms.train_test_split(iris.data, iris.target, test_size = .90, random_state = 42)\n",
    "\n",
    "models = {'kNN': neighbors.KNeighborsClassifier(n_neighbors=3), 'NB': naive_bayes.GaussianNB()}\n",
    "\n",
    "for name, model in models.items():\n",
    "    fit = model.fit(iris_train_ftrs, iris_train_tgt)\n",
    "    predictions = fit.predict(iris_test_ftrs)\n",
    "    score = metrics.accuracy_score(iris_test_tgt, predictions)\n",
    "    print(\"{:>3s}:{:0.2f}\".format(name, score))"
   ]
  },
  {
   "cell_type": "code",
   "execution_count": null,
   "metadata": {},
   "outputs": [],
   "source": []
  }
 ],
 "metadata": {
  "kernelspec": {
   "display_name": "Python 3.9.12 ('base')",
   "language": "python",
   "name": "python3"
  },
  "language_info": {
   "codemirror_mode": {
    "name": "ipython",
    "version": 3
   },
   "file_extension": ".py",
   "mimetype": "text/x-python",
   "name": "python",
   "nbconvert_exporter": "python",
   "pygments_lexer": "ipython3",
   "version": "3.9.12"
  },
  "orig_nbformat": 4,
  "vscode": {
   "interpreter": {
    "hash": "6f5583cf1d9466b5c27e75c89cc6b383bed5736d6b16c51c8074d8690011a952"
   }
  }
 },
 "nbformat": 4,
 "nbformat_minor": 2
}
