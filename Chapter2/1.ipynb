{
 "cells": [
  {
   "cell_type": "markdown",
   "metadata": {},
   "source": [
    "# Let's set up the env and do some math"
   ]
  },
  {
   "cell_type": "code",
   "execution_count": 2,
   "metadata": {},
   "outputs": [],
   "source": [
    "# 2.1 env\n",
    "from mlwpy import *\n",
    "%matplotlib inline"
   ]
  },
  {
   "cell_type": "code",
   "execution_count": 3,
   "metadata": {},
   "outputs": [
    {
     "data": {
      "text/plain": [
       "4"
      ]
     },
     "execution_count": 3,
     "metadata": {},
     "output_type": "execute_result"
    }
   ],
   "source": [
    "# 2.4 probability\n",
    "import numpy as np\n",
    "np.random.randint(1, 7) # pick one from [1,2,3,4,5,6]\n"
   ]
  },
  {
   "cell_type": "code",
   "execution_count": 4,
   "metadata": {},
   "outputs": [
    {
     "data": {
      "text/plain": [
       "<BarContainer object of 6 artists>"
      ]
     },
     "execution_count": 4,
     "metadata": {},
     "output_type": "execute_result"
    },
    {
     "data": {
      "image/png": "[encoded data removed]",
      "text/plain": [
       "<Figure size 576x216 with 2 Axes>"
      ]
     },
     "metadata": {
      "needs_background": "light"
     },
     "output_type": "display_data"
    }
   ],
   "source": [
    "# check if numbers are generated with equal likelihood\n",
    "import matplotlib.pyplot as plt\n",
    "few_rolls = np.random.randint(1, 7, size = 10)\n",
    "many_rolls = np.random.randint(1, 7, size = 1000)\n",
    "\n",
    "few_counts = np.histogram(few_rolls, bins = np.arange(.5, 7.5))[0]\n",
    "many_counts = np.histogram(many_rolls, bins = np.arange(.5, 7.5))[0]\n",
    "\n",
    "fig, (ax1, ax2) = plt.subplots(1, 2, figsize = (8, 3))\n",
    "ax1.bar(np.arange(1,7), few_counts)\n",
    "ax2.bar(np.arange(1,7), many_counts)\n"
   ]
  },
  {
   "cell_type": "code",
   "execution_count": 5,
   "metadata": {},
   "outputs": [
    {
     "data": {
      "text/plain": [
       "(0.0, 55.0)"
      ]
     },
     "execution_count": 5,
     "metadata": {},
     "output_type": "execute_result"
    },
    {
     "data": {
      "image/png": "[encoded data removed]",
      "text/plain": [
       "<Figure size 432x288 with 1 Axes>"
      ]
     },
     "metadata": {
      "needs_background": "light"
     },
     "output_type": "display_data"
    }
   ],
   "source": [
    "# distribution\n",
    "import scipy.stats as ss\n",
    "b = ss.distributions.binom\n",
    "n = ss.distributions.norm\n",
    "\n",
    "for flips in [5, 10, 20, 40, 80]:\n",
    "    # binomial coin flips\n",
    "    success = np.arange(flips)\n",
    "    our_distribution = b.pmf(success, flips, .5)\n",
    "    plt.hist(success, flips, weights = our_distribution)\n",
    "\n",
    "    # normal approximation to that binomial\n",
    "    # set the mean and standard deviation\n",
    "    mu = flips * .5\n",
    "    std_dev = np.sqrt(flips * .5 * (1- .5))\n",
    "\n",
    "    # set up both the x and y points for the normal\n",
    "    # get the ys from the distribution \n",
    "    # feed it xs, set those up here\n",
    "    norm_x = np.linspace(mu-3*std_dev, mu+3*std_dev, 100)\n",
    "    norm_y = n.pdf(norm_x, mu, std_dev)\n",
    "    plt.plot(norm_x, norm_y, 'k')\n",
    "\n",
    "plt.xlim(0, 55)\n"
   ]
  },
  {
   "cell_type": "code",
   "execution_count": 7,
   "metadata": {},
   "outputs": [
    {
     "data": {
      "text/plain": [
       "36.25"
      ]
     },
     "execution_count": 7,
     "metadata": {},
     "output_type": "execute_result"
    }
   ],
   "source": [
    "# linear combinations using numpy\n",
    "quantity = np.array([2, 12, 3])\n",
    "costs = np.array([12.5, .5, 1.75])\n",
    "np.sum(quantity * costs)"
   ]
  },
  {
   "cell_type": "code",
   "execution_count": 9,
   "metadata": {},
   "outputs": [
    {
     "name": "stdout",
     "output_type": "stream",
     "text": [
      "36.25\n",
      "36.25\n",
      "36.25\n"
     ]
    }
   ],
   "source": [
    "# 3 other ways to do this calculation\n",
    "print(quantity.dot(costs), \n",
    "      np.dot(quantity, costs),\n",
    "      quantity @ costs,\n",
    "      \n",
    "      sep = '\\n')"
   ]
  },
  {
   "cell_type": "code",
   "execution_count": 10,
   "metadata": {},
   "outputs": [
    {
     "name": "stdout",
     "output_type": "stream",
     "text": [
      "weights: [0.3333 0.3333 0.3333]\n",
      "via mean: 20.0\n",
      "via weights and dot: 20.0\n"
     ]
    }
   ],
   "source": [
    "# simple average\n",
    "values = np.array([10.0, 20.0, 30.0])\n",
    "weights = np.full_like(values, 1/3) # repeated (1/3)\n",
    "\n",
    "print(\"weights:\", weights)\n",
    "print(\"via mean:\", np.mean(values))\n",
    "print('via weights and dot:', np.dot(weights, values))"
   ]
  },
  {
   "cell_type": "code",
   "execution_count": 11,
   "metadata": {},
   "outputs": [
    {
     "data": {
      "text/plain": [
       "17.5"
      ]
     },
     "execution_count": 11,
     "metadata": {},
     "output_type": "execute_result"
    }
   ],
   "source": [
    "# weighted average -> expected value\n",
    "values = np.array([10.0, 20.0, 30.0])\n",
    "weights = np.array([.5, .25, .25])\n",
    "\n",
    "np.dot(weights, values)"
   ]
  },
  {
   "cell_type": "code",
   "execution_count": 17,
   "metadata": {},
   "outputs": [
    {
     "name": "stdout",
     "output_type": "stream",
     "text": [
      "2537.5\n"
     ]
    }
   ],
   "source": [
    "# an example for weighted average: toss coin to win money\n",
    "def is_even(n):\n",
    "    return n % 2 == 0\n",
    "\n",
    "winnings = 0.0\n",
    "\n",
    "for toss_ct in range(10000):\n",
    "    die_toss = np.random.randint(1, 7)\n",
    "    winnings += 1.0 if is_even(die_toss) else - 0.5\n",
    "\n",
    "print(winnings)"
   ]
  },
  {
   "cell_type": "code",
   "execution_count": 24,
   "metadata": {},
   "outputs": [
    {
     "data": {
      "text/html": [
       "<style type=\"text/css\">\n",
       "</style>\n",
       "<table id=\"T_bb7c8\">\n",
       "  <thead>\n",
       "    <tr>\n",
       "      <th class=\"blank level0\" >&nbsp;</th>\n",
       "      <th id=\"T_bb7c8_level0_col0\" class=\"col_heading level0 col0\" >errors</th>\n",
       "      <th id=\"T_bb7c8_level0_col1\" class=\"col_heading level0 col1\" >squared</th>\n",
       "    </tr>\n",
       "  </thead>\n",
       "  <tbody>\n",
       "    <tr>\n",
       "      <th id=\"T_bb7c8_level0_row0\" class=\"row_heading level0 row0\" >0</th>\n",
       "      <td id=\"T_bb7c8_row0_col0\" class=\"data row0 col0\" >5.000000</td>\n",
       "      <td id=\"T_bb7c8_row0_col1\" class=\"data row0 col1\" >25.000000</td>\n",
       "    </tr>\n",
       "    <tr>\n",
       "      <th id=\"T_bb7c8_level0_row1\" class=\"row_heading level0 row1\" >1</th>\n",
       "      <td id=\"T_bb7c8_row1_col0\" class=\"data row1 col0\" >-5.000000</td>\n",
       "      <td id=\"T_bb7c8_row1_col1\" class=\"data row1 col1\" >25.000000</td>\n",
       "    </tr>\n",
       "    <tr>\n",
       "      <th id=\"T_bb7c8_level0_row2\" class=\"row_heading level0 row2\" >2</th>\n",
       "      <td id=\"T_bb7c8_row2_col0\" class=\"data row2 col0\" >3.200000</td>\n",
       "      <td id=\"T_bb7c8_row2_col1\" class=\"data row2 col1\" >10.240000</td>\n",
       "    </tr>\n",
       "    <tr>\n",
       "      <th id=\"T_bb7c8_level0_row3\" class=\"row_heading level0 row3\" >3</th>\n",
       "      <td id=\"T_bb7c8_row3_col0\" class=\"data row3 col0\" >-1.100000</td>\n",
       "      <td id=\"T_bb7c8_row3_col1\" class=\"data row3 col1\" >1.210000</td>\n",
       "    </tr>\n",
       "  </tbody>\n",
       "</table>\n"
      ],
      "text/plain": [
       "<pandas.io.formats.style.Styler at 0x21c93a81af0>"
      ]
     },
     "metadata": {},
     "output_type": "display_data"
    },
    {
     "data": {
      "text/plain": [
       "61.45"
      ]
     },
     "execution_count": 24,
     "metadata": {},
     "output_type": "execute_result"
    }
   ],
   "source": [
    "# an application for sums of squares: sums of squared errors\n",
    "errors = np.array([5, -5, 3.2, -1.1])\n",
    "display(pd.DataFrame({\"errors\": errors, \"squared\": errors*errors}).style)\n",
    "np.dot(errors, errors)"
   ]
  }
 ],
 "metadata": {
  "kernelspec": {
   "display_name": "Python 3.9.12 ('base')",
   "language": "python",
   "name": "python3"
  },
  "language_info": {
   "codemirror_mode": {
    "name": "ipython",
    "version": 3
   },
   "file_extension": ".py",
   "mimetype": "text/x-python",
   "name": "python",
   "nbconvert_exporter": "python",
   "pygments_lexer": "ipython3",
   "version": "3.9.12"
  },
  "orig_nbformat": 4,
  "vscode": {
   "interpreter": {
    "hash": "6f5583cf1d9466b5c27e75c89cc6b383bed5736d6b16c51c8074d8690011a952"
   }
  }
 },
 "nbformat": 4,
 "nbformat_minor": 2
}
