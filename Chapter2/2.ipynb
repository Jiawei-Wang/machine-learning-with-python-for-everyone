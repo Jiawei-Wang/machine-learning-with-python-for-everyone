{
 "cells": [
  {
   "cell_type": "markdown",
   "metadata": {},
   "source": [
    "# Let's draw some graphs"
   ]
  },
  {
   "cell_type": "code",
   "execution_count": 1,
   "metadata": {},
   "outputs": [
    {
     "data": {
      "text/plain": [
       "Text(0, 0.5, 'cost\\n(parking only')"
      ]
     },
     "execution_count": 1,
     "metadata": {},
     "output_type": "execute_result"
    },
    {
     "data": {
      "image/png": "[encoded data removed]",
      "text/plain": [
       "<Figure size 432x288 with 1 Axes>"
      ]
     },
     "metadata": {
      "needs_background": "light"
     },
     "output_type": "display_data"
    }
   ],
   "source": [
    "# Line\n",
    "\n",
    "# example: parking fee remains the same when people share one car\n",
    "import numpy as np\n",
    "import matplotlib.pyplot as plt\n",
    "\n",
    "people = np.arange(1, 11)\n",
    "total_cost = np.ones_like(people) * 40.0\n",
    "\n",
    "ax = plt.gca()\n",
    "ax.plot(people, total_cost)\n",
    "ax.set_xlabel(\"# people\")\n",
    "ax.set_ylabel(\"cost\\n(parking only\")"
   ]
  },
  {
   "cell_type": "code",
   "execution_count": 4,
   "metadata": {},
   "outputs": [
    {
     "data": {
      "text/html": [
       "<div>\n",
       "<style scoped>\n",
       "    .dataframe tbody tr th:only-of-type {\n",
       "        vertical-align: middle;\n",
       "    }\n",
       "\n",
       "    .dataframe tbody tr th {\n",
       "        vertical-align: top;\n",
       "    }\n",
       "\n",
       "    .dataframe thead th {\n",
       "        text-align: right;\n",
       "    }\n",
       "</style>\n",
       "<table border=\"1\" class=\"dataframe\">\n",
       "  <thead>\n",
       "    <tr style=\"text-align: right;\">\n",
       "      <th></th>\n",
       "      <th>1</th>\n",
       "      <th>2</th>\n",
       "      <th>3</th>\n",
       "      <th>4</th>\n",
       "      <th>5</th>\n",
       "      <th>6</th>\n",
       "      <th>7</th>\n",
       "      <th>8</th>\n",
       "      <th>9</th>\n",
       "      <th>10</th>\n",
       "    </tr>\n",
       "  </thead>\n",
       "  <tbody>\n",
       "    <tr>\n",
       "      <th>total_cost</th>\n",
       "      <td>120</td>\n",
       "      <td>200</td>\n",
       "      <td>280</td>\n",
       "      <td>360</td>\n",
       "      <td>440</td>\n",
       "      <td>520</td>\n",
       "      <td>600</td>\n",
       "      <td>680</td>\n",
       "      <td>760</td>\n",
       "      <td>840</td>\n",
       "    </tr>\n",
       "  </tbody>\n",
       "</table>\n",
       "</div>"
      ],
      "text/plain": [
       "             1    2    3    4    5    6    7    8    9    10\n",
       "total_cost  120  200  280  360  440  520  600  680  760  840"
      ]
     },
     "metadata": {},
     "output_type": "display_data"
    }
   ],
   "source": [
    "# now add concert ticket fee for each person \n",
    "import pandas as pd\n",
    "people = np.arange(1, 11)\n",
    "total_cost = 80.0 * people + 40.0\n",
    "\n",
    "display(pd.DataFrame({'total_cost': total_cost.astype(int)}, index = people).T) # T: ranspose"
   ]
  },
  {
   "cell_type": "code",
   "execution_count": 5,
   "metadata": {},
   "outputs": [
    {
     "data": {
      "text/plain": [
       "Text(0, 0.5, 'total_cost')"
      ]
     },
     "execution_count": 5,
     "metadata": {},
     "output_type": "execute_result"
    },
    {
     "data": {
      "image/png": "[encoded data removed]",
      "text/plain": [
       "<Figure size 432x288 with 1 Axes>"
      ]
     },
     "metadata": {
      "needs_background": "light"
     },
     "output_type": "display_data"
    }
   ],
   "source": [
    "# move into 2d space\n",
    "ax = plt.gca()\n",
    "ax.plot(people, total_cost, 'bo')\n",
    "ax.set_xlabel(\"people\")\n",
    "ax.set_ylabel(\"total_cost\")"
   ]
  },
  {
   "cell_type": "code",
   "execution_count": 6,
   "metadata": {},
   "outputs": [
    {
     "data": {
      "text/plain": [
       "[<matplotlib.lines.Line2D at 0x1f54755a5b0>]"
      ]
     },
     "execution_count": 6,
     "metadata": {},
     "output_type": "execute_result"
    },
    {
     "data": {
      "image/png": "[encoded data removed]",
      "text/plain": [
       "<Figure size 288x216 with 1 Axes>"
      ]
     },
     "metadata": {
      "needs_background": "light"
     },
     "output_type": "display_data"
    }
   ],
   "source": [
    "# draw a linear equation\n",
    "\n",
    "from mlwpy import *\n",
    "# paint by number\n",
    "# create 100 x values from -3 to 3\n",
    "xs = np.linspace(-3, 3, 100)\n",
    "\n",
    "# slope m and intercept b\n",
    "m, b = 1.5, -3\n",
    "\n",
    "ax = plt.gca()\n",
    "ys = m*xs + b\n",
    "ax.plot(xs, ys)\n",
    "\n",
    "ax.set_ylim(-4, 4)\n",
    "high_school_style(ax)\n",
    "\n",
    "ax.plot(0, -3, 'ro')\n",
    "ax.plot(2, 0, 'ro')\n",
    "\n",
    "ys = 0 * xs + b\n",
    "ax.plot(xs, ys, 'y')"
   ]
  }
 ],
 "metadata": {
  "kernelspec": {
   "display_name": "Python 3.9.12 ('base')",
   "language": "python",
   "name": "python3"
  },
  "language_info": {
   "codemirror_mode": {
    "name": "ipython",
    "version": 3
   },
   "file_extension": ".py",
   "mimetype": "text/x-python",
   "name": "python",
   "nbconvert_exporter": "python",
   "pygments_lexer": "ipython3",
   "version": "3.9.12"
  },
  "orig_nbformat": 4,
  "vscode": {
   "interpreter": {
    "hash": "6f5583cf1d9466b5c27e75c89cc6b383bed5736d6b16c51c8074d8690011a952"
   }
  }
 },
 "nbformat": 4,
 "nbformat_minor": 2
}
